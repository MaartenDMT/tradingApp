{
 "cells": [
  {
   "cell_type": "code",
   "execution_count": 15,
   "metadata": {},
   "outputs": [
    {
     "data": {
      "text/plain": [
       "True"
      ]
     },
     "execution_count": 15,
     "metadata": {},
     "output_type": "execute_result"
    }
   ],
   "source": [
    "import ccxt\n",
    "import os\n",
    "from dotenv import load_dotenv\n",
    "\n",
    "# Set the path to the .env file\n",
    "dotenv_path = r'.env'\n",
    "# Load the environment variables from the .env file located two directories above\n",
    "load_dotenv(dotenv_path)"
   ]
  },
  {
   "cell_type": "code",
   "execution_count": 16,
   "metadata": {},
   "outputs": [],
   "source": [
    "exchange = ccxt.phemex({\n",
    "                # 'options': {\n",
    "                #     'adjustForTimeDifference': True,\n",
    "                # },\n",
    "                'apiKey': os.environ.get('API_KEY_PHE_TEST'),\n",
    "                'secret': os.environ.get('API_SECRET_PHE_TEST'),\n",
    "                'enableRateLimit': True,\n",
    "            })\n",
    "exchange.set_sandbox_mode(True)"
   ]
  },
  {
   "cell_type": "markdown",
   "metadata": {},
   "source": []
  },
  {
   "cell_type": "code",
   "execution_count": 17,
   "metadata": {},
   "outputs": [
    {
     "name": "stdout",
     "output_type": "stream",
     "text": [
      "{'BTC': 0.45, 'USD': 0.0, 'USDT': 4850.0}\n"
     ]
    }
   ],
   "source": [
    "print(exchange.fetch_free_balance())"
   ]
  }
 ],
 "metadata": {
  "kernelspec": {
   "display_name": "Python 3",
   "language": "python",
   "name": "python3"
  },
  "language_info": {
   "codemirror_mode": {
    "name": "ipython",
    "version": 3
   },
   "file_extension": ".py",
   "mimetype": "text/x-python",
   "name": "python",
   "nbconvert_exporter": "python",
   "pygments_lexer": "ipython3",
   "version": "3.9.5"
  },
  "orig_nbformat": 4
 },
 "nbformat": 4,
 "nbformat_minor": 2
}
